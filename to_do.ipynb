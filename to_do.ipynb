{
  "nbformat": 4,
  "nbformat_minor": 5,
  "metadata": {
    "kernelspec": {
      "display_name": "Python 3",
      "language": "python",
      "name": "python3"
    },
    "language_info": {
      "codemirror_mode": {
        "name": "ipython",
        "version": 3
      },
      "file_extension": ".py",
      "mimetype": "text/x-python",
      "name": "python",
      "nbconvert_exporter": "python",
      "pygments_lexer": "ipython3",
      "version": "3.8.6"
    },
    "colab": {
      "name": "to_do.ipynb",
      "provenance": [],
      "include_colab_link": true
    },
    "accelerator": "GPU"
  },
  "cells": [
    {
      "cell_type": "markdown",
      "metadata": {
        "id": "view-in-github",
        "colab_type": "text"
      },
      "source": [
        "<a href=\"https://colab.research.google.com/github/glocker007/crypto/blob/main/to_do.ipynb\" target=\"_parent\"><img src=\"https://colab.research.google.com/assets/colab-badge.svg\" alt=\"Open In Colab\"/></a>"
      ]
    },
    {
      "cell_type": "code",
      "metadata": {
        "id": "0fec662a"
      },
      "source": [
        "import pandas as pd\n",
        "import numpy as np"
      ],
      "id": "0fec662a",
      "execution_count": 1,
      "outputs": []
    },
    {
      "cell_type": "code",
      "metadata": {
        "colab": {
          "base_uri": "https://localhost:8080/",
          "height": 206
        },
        "id": "151a6bab",
        "outputId": "4718fe36-1a7e-4ec9-951e-5e62c29bd450"
      },
      "source": [
        "data = pd.read_csv('/content/ohlcv.csv',index_col=0)\n",
        "data.head()"
      ],
      "id": "151a6bab",
      "execution_count": 4,
      "outputs": [
        {
          "output_type": "execute_result",
          "data": {
            "text/html": [
              "<div>\n",
              "<style scoped>\n",
              "    .dataframe tbody tr th:only-of-type {\n",
              "        vertical-align: middle;\n",
              "    }\n",
              "\n",
              "    .dataframe tbody tr th {\n",
              "        vertical-align: top;\n",
              "    }\n",
              "\n",
              "    .dataframe thead th {\n",
              "        text-align: right;\n",
              "    }\n",
              "</style>\n",
              "<table border=\"1\" class=\"dataframe\">\n",
              "  <thead>\n",
              "    <tr style=\"text-align: right;\">\n",
              "      <th></th>\n",
              "      <th>timestamp</th>\n",
              "      <th>open</th>\n",
              "      <th>high</th>\n",
              "      <th>low</th>\n",
              "      <th>close</th>\n",
              "      <th>volume</th>\n",
              "      <th>quote_volume</th>\n",
              "    </tr>\n",
              "  </thead>\n",
              "  <tbody>\n",
              "    <tr>\n",
              "      <th>0</th>\n",
              "      <td>1.381190e+09</td>\n",
              "      <td>123.61</td>\n",
              "      <td>123.61000</td>\n",
              "      <td>123.61</td>\n",
              "      <td>123.61</td>\n",
              "      <td>0.1000</td>\n",
              "      <td>0.0</td>\n",
              "    </tr>\n",
              "    <tr>\n",
              "      <th>1</th>\n",
              "      <td>1.381277e+09</td>\n",
              "      <td>123.61</td>\n",
              "      <td>124.19000</td>\n",
              "      <td>123.90</td>\n",
              "      <td>124.18</td>\n",
              "      <td>3.9916</td>\n",
              "      <td>0.0</td>\n",
              "    </tr>\n",
              "    <tr>\n",
              "      <th>2</th>\n",
              "      <td>1.381363e+09</td>\n",
              "      <td>124.18</td>\n",
              "      <td>124.01687</td>\n",
              "      <td>123.84</td>\n",
              "      <td>123.84</td>\n",
              "      <td>2.8230</td>\n",
              "      <td>0.0</td>\n",
              "    </tr>\n",
              "    <tr>\n",
              "      <th>3</th>\n",
              "      <td>1.381450e+09</td>\n",
              "      <td>123.84</td>\n",
              "      <td>125.86000</td>\n",
              "      <td>125.85</td>\n",
              "      <td>125.86</td>\n",
              "      <td>2.0000</td>\n",
              "      <td>0.0</td>\n",
              "    </tr>\n",
              "    <tr>\n",
              "      <th>4</th>\n",
              "      <td>1.381622e+09</td>\n",
              "      <td>125.86</td>\n",
              "      <td>127.50000</td>\n",
              "      <td>127.00</td>\n",
              "      <td>127.00</td>\n",
              "      <td>4.0000</td>\n",
              "      <td>0.0</td>\n",
              "    </tr>\n",
              "  </tbody>\n",
              "</table>\n",
              "</div>"
            ],
            "text/plain": [
              "      timestamp    open       high     low   close  volume  quote_volume\n",
              "0  1.381190e+09  123.61  123.61000  123.61  123.61  0.1000           0.0\n",
              "1  1.381277e+09  123.61  124.19000  123.90  124.18  3.9916           0.0\n",
              "2  1.381363e+09  124.18  124.01687  123.84  123.84  2.8230           0.0\n",
              "3  1.381450e+09  123.84  125.86000  125.85  125.86  2.0000           0.0\n",
              "4  1.381622e+09  125.86  127.50000  127.00  127.00  4.0000           0.0"
            ]
          },
          "metadata": {
            "tags": []
          },
          "execution_count": 4
        }
      ]
    },
    {
      "cell_type": "code",
      "metadata": {
        "id": "e91379ec"
      },
      "source": [
        "to_do = data[[s for s in data.columns if s != 'timestamp']]"
      ],
      "id": "e91379ec",
      "execution_count": 5,
      "outputs": []
    },
    {
      "cell_type": "code",
      "metadata": {
        "id": "ba292694"
      },
      "source": [
        "X = to_do.to_numpy()\n",
        "M = np.array([X[:,i].mean() for i in range(X.shape[1])])\n",
        "V = np.array([X[:,i].var() for i in range(X.shape[1])])\n",
        "X = (X - M)/V**0.5\n",
        "X_train = X[:int(0.7 * X.shape[0])]\n",
        "X_test = X[int(0.7 * X.shape[0]):]"
      ],
      "id": "ba292694",
      "execution_count": 10,
      "outputs": []
    },
    {
      "cell_type": "code",
      "metadata": {
        "colab": {
          "base_uri": "https://localhost:8080/"
        },
        "id": "ed7a4787",
        "outputId": "d07ca4d7-d969-4e6b-c953-30ba35b8f26d"
      },
      "source": [
        "X_train[0]"
      ],
      "id": "ed7a4787",
      "execution_count": 7,
      "outputs": [
        {
          "output_type": "execute_result",
          "data": {
            "text/plain": [
              "array([-0.59445043, -0.59393983, -0.59668906, -0.59488497, -0.85835728,\n",
              "       -0.45068767])"
            ]
          },
          "metadata": {
            "tags": []
          },
          "execution_count": 7
        }
      ]
    },
    {
      "cell_type": "code",
      "metadata": {
        "id": "2bbff34c",
        "outputId": "2cba664b-8064-456e-c638-ccbf9389a4a4"
      },
      "source": [
        ""
      ],
      "id": "2bbff34c",
      "execution_count": null,
      "outputs": [
        {
          "output_type": "execute_result",
          "data": {
            "text/plain": [
              "array([1.        , 0.66666667, 1.        ])"
            ]
          },
          "metadata": {
            "tags": []
          },
          "execution_count": 31
        }
      ]
    },
    {
      "cell_type": "code",
      "metadata": {
        "id": "521cf125",
        "outputId": "c4c39d2e-fb75-4cb6-de7b-54c5774953e3"
      },
      "source": [
        ""
      ],
      "id": "521cf125",
      "execution_count": null,
      "outputs": [
        {
          "output_type": "execute_result",
          "data": {
            "text/plain": [
              "(1946, 5)"
            ]
          },
          "metadata": {
            "tags": []
          },
          "execution_count": 23
        }
      ]
    },
    {
      "cell_type": "code",
      "metadata": {
        "colab": {
          "base_uri": "https://localhost:8080/"
        },
        "id": "8f1157fa",
        "outputId": "39ebb8ba-fc41-4552-f1ec-2cff62f91f43"
      },
      "source": [
        "X_train = X_train[:,0:5]\n",
        "X_test = X_test[:,0:5]\n",
        "X_train.shape"
      ],
      "id": "8f1157fa",
      "execution_count": 11,
      "outputs": [
        {
          "output_type": "execute_result",
          "data": {
            "text/plain": [
              "(1946, 5)"
            ]
          },
          "metadata": {
            "tags": []
          },
          "execution_count": 11
        }
      ]
    },
    {
      "cell_type": "code",
      "metadata": {
        "colab": {
          "base_uri": "https://localhost:8080/"
        },
        "id": "588e33e4",
        "outputId": "6a9d808d-0cd2-4297-df54-a427bea320c1"
      },
      "source": [
        "tmp_list = []\n",
        "tmp_test = []\n",
        "for i in range(X_train.shape[0]-30):\n",
        "    tmp_list.append(X_train[i:i+30])\n",
        "for i in range(X_test.shape[0]-30):\n",
        "    tmp_test.append(X_test[i:i+30])\n",
        "X_train = np.array(tmp_list)\n",
        "X_test = np.array(tmp_test)\n",
        "print(X_train.shape)\n",
        "X_test.shape"
      ],
      "id": "588e33e4",
      "execution_count": 12,
      "outputs": [
        {
          "output_type": "stream",
          "text": [
            "(1916, 30, 5)\n"
          ],
          "name": "stdout"
        },
        {
          "output_type": "execute_result",
          "data": {
            "text/plain": [
              "(805, 30, 5)"
            ]
          },
          "metadata": {
            "tags": []
          },
          "execution_count": 12
        }
      ]
    },
    {
      "cell_type": "code",
      "metadata": {
        "colab": {
          "base_uri": "https://localhost:8080/"
        },
        "id": "adb2f895",
        "outputId": "92f98a97-329e-4201-e3b5-12f6c8007177"
      },
      "source": [
        "Y_train = X_train[1:]\n",
        "X_train = X_train[:-1]\n",
        "Y_test = X_test[1:]\n",
        "X_test = X_test[:-1]\n",
        "print(X_train.shape, Y_train.shape, X_test.shape, Y_test.shape)"
      ],
      "id": "adb2f895",
      "execution_count": 13,
      "outputs": [
        {
          "output_type": "stream",
          "text": [
            "(1915, 30, 5) (1915, 30, 5) (804, 30, 5) (804, 30, 5)\n"
          ],
          "name": "stdout"
        }
      ]
    },
    {
      "cell_type": "code",
      "metadata": {
        "colab": {
          "base_uri": "https://localhost:8080/"
        },
        "id": "f2b64b97",
        "outputId": "2df58be3-f158-47e5-bced-56ada899b237"
      },
      "source": [
        "import torch\n",
        "import torch.nn as nn\n",
        "from torch.utils.data import DataLoader, TensorDataset\n",
        "X_train, Y_train = torch.tensor(X_train, dtype=torch.float).cuda(), torch.tensor(Y_train, dtype=torch.float).cuda()\n",
        "X_test, Y_test = torch.tensor(X_test, dtype=torch.float).cuda(), torch.tensor(Y_test, dtype=torch.float).cuda()\n",
        "dataset = TensorDataset(X_train,Y_train)\n",
        "trainloader = DataLoader(dataset, batch_size = 1, shuffle = True)"
      ],
      "id": "f2b64b97",
      "execution_count": 20,
      "outputs": [
        {
          "output_type": "stream",
          "text": [
            "/usr/local/lib/python3.7/dist-packages/ipykernel_launcher.py:4: UserWarning: To copy construct from a tensor, it is recommended to use sourceTensor.clone().detach() or sourceTensor.clone().detach().requires_grad_(True), rather than torch.tensor(sourceTensor).\n",
            "  after removing the cwd from sys.path.\n",
            "/usr/local/lib/python3.7/dist-packages/ipykernel_launcher.py:5: UserWarning: To copy construct from a tensor, it is recommended to use sourceTensor.clone().detach() or sourceTensor.clone().detach().requires_grad_(True), rather than torch.tensor(sourceTensor).\n",
            "  \"\"\"\n"
          ],
          "name": "stderr"
        }
      ]
    },
    {
      "cell_type": "code",
      "metadata": {
        "id": "34e132aa"
      },
      "source": [
        "class myGRU(nn.Module):\n",
        "    def __init__(self):\n",
        "        super(myGRU, self).__init__()\n",
        "        self.gru = nn.GRU(5, 20 , batch_first = True)\n",
        "        self.linear = nn.Linear(20,5, bias = True)\n",
        "    def forward(self, x):\n",
        "        h0 = torch.rand(1, x.shape[0], 20).cuda()\n",
        "        x,_ = self.gru(x, h0)\n",
        "        x = self.linear(x)\n",
        "        return x"
      ],
      "id": "34e132aa",
      "execution_count": 17,
      "outputs": []
    },
    {
      "cell_type": "code",
      "metadata": {
        "id": "acbc7867"
      },
      "source": [
        "model  = myGRU().cuda()\n",
        "loss = nn.MSELoss()\n",
        "optimizer = torch.optim.SGD(model.parameters(), lr = 0.01)"
      ],
      "id": "acbc7867",
      "execution_count": 47,
      "outputs": []
    },
    {
      "cell_type": "code",
      "metadata": {
        "colab": {
          "base_uri": "https://localhost:8080/"
        },
        "id": "d12ad545",
        "outputId": "e8ee0017-1dee-41dd-dab9-8aa772f68308"
      },
      "source": [
        "L = []\n",
        "L2 = []\n",
        "model(X_test).shape"
      ],
      "id": "d12ad545",
      "execution_count": 21,
      "outputs": [
        {
          "output_type": "execute_result",
          "data": {
            "text/plain": [
              "torch.Size([804, 30, 5])"
            ]
          },
          "metadata": {
            "tags": []
          },
          "execution_count": 21
        }
      ]
    },
    {
      "cell_type": "code",
      "metadata": {
        "colab": {
          "base_uri": "https://localhost:8080/"
        },
        "id": "85pKx_CVa_7N",
        "outputId": "67c350fb-7617-4802-cbc8-a69bed3676ae"
      },
      "source": [
        "device = torch.device(\"cuda:0\" if torch.cuda.is_available() else \"cpu\")\n",
        "print(device)\n",
        "torch.cuda.is_available()"
      ],
      "id": "85pKx_CVa_7N",
      "execution_count": 15,
      "outputs": [
        {
          "output_type": "stream",
          "text": [
            "cuda:0\n"
          ],
          "name": "stdout"
        },
        {
          "output_type": "execute_result",
          "data": {
            "text/plain": [
              "True"
            ]
          },
          "metadata": {
            "tags": []
          },
          "execution_count": 15
        }
      ]
    },
    {
      "cell_type": "code",
      "metadata": {
        "colab": {
          "base_uri": "https://localhost:8080/",
          "height": 1000
        },
        "id": "3cf06a9c",
        "outputId": "87f3ab79-23ed-4743-af38-819f33046c3d"
      },
      "source": [
        "for epoch in range(1000):\n",
        "    L2.append(torch.sum(loss(model(X_test),Y_test)).item())\n",
        "    for i, (input_ , target) in  enumerate(trainloader):\n",
        "        output = model(input_)\n",
        "        optimizer.zero_grad()\n",
        "        Loss = loss(model(input_), target)\n",
        "        Loss.backward()\n",
        "        optimizer.step()\n",
        "        L.append(torch.sum(Loss).item())\n",
        "    print(L2[-1])\n"
      ],
      "id": "3cf06a9c",
      "execution_count": 48,
      "outputs": [
        {
          "output_type": "stream",
          "text": [
            "2.395226240158081\n",
            "1.0831842422485352\n",
            "0.9823339581489563\n",
            "0.9580872058868408\n",
            "0.9459776878356934\n",
            "0.9383999705314636\n",
            "0.928487241268158\n",
            "0.9220361113548279\n",
            "0.9163379669189453\n",
            "0.9138848781585693\n",
            "0.9062283635139465\n",
            "0.9025654196739197\n",
            "0.9004665613174438\n",
            "0.8997806906700134\n",
            "0.89510577917099\n",
            "0.8908281922340393\n",
            "0.8894639611244202\n",
            "0.8856253027915955\n",
            "0.8827906250953674\n",
            "0.8840661644935608\n",
            "0.8803909420967102\n",
            "0.8784350752830505\n",
            "0.8742701411247253\n",
            "0.8759229183197021\n",
            "0.8737163543701172\n",
            "0.8705435991287231\n",
            "0.8691670298576355\n",
            "0.8688210248947144\n",
            "0.8647308349609375\n",
            "0.8637146353721619\n",
            "0.8656089305877686\n",
            "0.8610644340515137\n",
            "0.8638554811477661\n",
            "0.861395001411438\n",
            "0.8597339987754822\n",
            "0.8596907258033752\n",
            "0.8599718809127808\n",
            "0.8580563068389893\n",
            "0.8583046793937683\n",
            "0.8576079607009888\n",
            "0.8554327487945557\n",
            "0.8546688556671143\n",
            "0.8566100597381592\n",
            "0.8572672009468079\n",
            "0.8578951954841614\n",
            "0.8544023036956787\n",
            "0.8542112708091736\n",
            "0.8550761938095093\n",
            "0.8545079231262207\n",
            "0.8555155992507935\n",
            "0.8564627766609192\n",
            "0.8554632663726807\n",
            "0.8552220463752747\n",
            "0.8549373149871826\n",
            "0.8543009161949158\n",
            "0.8553082346916199\n",
            "0.8555209636688232\n",
            "0.8586131930351257\n",
            "0.8583455681800842\n",
            "0.8590709567070007\n",
            "0.8574618101119995\n",
            "0.8612998723983765\n",
            "0.8602670431137085\n",
            "0.8607755899429321\n",
            "0.8627946376800537\n",
            "0.8624202013015747\n",
            "0.8639531135559082\n",
            "0.864673912525177\n",
            "0.8658707737922668\n",
            "0.8670492768287659\n",
            "0.866661787033081\n",
            "0.8689706325531006\n",
            "0.8699150681495667\n",
            "0.8708177804946899\n",
            "0.871228814125061\n",
            "0.8734987378120422\n",
            "0.8709545135498047\n",
            "0.8736830353736877\n",
            "0.8772257566452026\n",
            "0.8737021684646606\n",
            "0.8777822256088257\n",
            "0.8787916302680969\n",
            "0.8812246322631836\n",
            "0.881596565246582\n",
            "0.8834891319274902\n",
            "0.8828299045562744\n",
            "0.8863456845283508\n",
            "0.8885042667388916\n",
            "0.8878623843193054\n",
            "0.889440655708313\n",
            "0.8898506164550781\n",
            "0.8902125954627991\n",
            "0.8923468589782715\n",
            "0.8941450715065002\n",
            "0.8942126631736755\n",
            "0.896440327167511\n",
            "0.8959635496139526\n",
            "0.8978320956230164\n",
            "0.8990399241447449\n",
            "0.9012166261672974\n",
            "0.9008240103721619\n",
            "0.9032149314880371\n",
            "0.9030073881149292\n",
            "0.9047136902809143\n",
            "0.9063839912414551\n",
            "0.9078298211097717\n",
            "0.9090362191200256\n",
            "0.9114575982093811\n",
            "0.9123817086219788\n",
            "0.9128217697143555\n",
            "0.9151574373245239\n",
            "0.9154078960418701\n",
            "0.9175136089324951\n",
            "0.9192005395889282\n",
            "0.9180865287780762\n",
            "0.9220958948135376\n",
            "0.9206461310386658\n",
            "0.9229740500450134\n",
            "0.9250681400299072\n",
            "0.9247835874557495\n",
            "0.9249312281608582\n",
            "0.9267845749855042\n",
            "0.9304664134979248\n",
            "0.9293596744537354\n",
            "0.9295313954353333\n",
            "0.9307281374931335\n",
            "0.932565450668335\n",
            "0.9333565831184387\n",
            "0.9364196062088013\n",
            "0.937187135219574\n",
            "0.9372723698616028\n",
            "0.9381904006004333\n",
            "0.9399468302726746\n",
            "0.9421958923339844\n",
            "0.9388290643692017\n",
            "0.9426342248916626\n",
            "0.9419673681259155\n",
            "0.9439398050308228\n",
            "0.9456417560577393\n",
            "0.944298505783081\n",
            "0.9453278183937073\n",
            "0.9478034973144531\n",
            "0.9499756693840027\n",
            "0.9493646025657654\n",
            "0.9503468871116638\n",
            "0.9520383477210999\n",
            "0.9529826045036316\n",
            "0.9530449509620667\n",
            "0.9545775651931763\n",
            "0.9556715488433838\n",
            "0.9551534056663513\n",
            "0.9554612636566162\n",
            "0.956644594669342\n",
            "0.9586821794509888\n",
            "0.9577654004096985\n",
            "0.9584797620773315\n",
            "0.9599425792694092\n",
            "0.9611421823501587\n",
            "0.9608314037322998\n",
            "0.9618375301361084\n",
            "0.9643899202346802\n",
            "0.9624425172805786\n",
            "0.9604060649871826\n",
            "0.9641571044921875\n",
            "0.9649358987808228\n",
            "0.9649511575698853\n"
          ],
          "name": "stdout"
        },
        {
          "output_type": "error",
          "ename": "KeyboardInterrupt",
          "evalue": "ignored",
          "traceback": [
            "\u001b[0;31m---------------------------------------------------------------------------\u001b[0m",
            "\u001b[0;31mKeyboardInterrupt\u001b[0m                         Traceback (most recent call last)",
            "\u001b[0;32m<ipython-input-48-28706be2f164>\u001b[0m in \u001b[0;36m<module>\u001b[0;34m()\u001b[0m\n\u001b[1;32m      5\u001b[0m         \u001b[0moptimizer\u001b[0m\u001b[0;34m.\u001b[0m\u001b[0mzero_grad\u001b[0m\u001b[0;34m(\u001b[0m\u001b[0;34m)\u001b[0m\u001b[0;34m\u001b[0m\u001b[0;34m\u001b[0m\u001b[0m\n\u001b[1;32m      6\u001b[0m         \u001b[0mLoss\u001b[0m \u001b[0;34m=\u001b[0m \u001b[0mloss\u001b[0m\u001b[0;34m(\u001b[0m\u001b[0mmodel\u001b[0m\u001b[0;34m(\u001b[0m\u001b[0minput_\u001b[0m\u001b[0;34m)\u001b[0m\u001b[0;34m,\u001b[0m \u001b[0mtarget\u001b[0m\u001b[0;34m)\u001b[0m\u001b[0;34m\u001b[0m\u001b[0;34m\u001b[0m\u001b[0m\n\u001b[0;32m----> 7\u001b[0;31m         \u001b[0mLoss\u001b[0m\u001b[0;34m.\u001b[0m\u001b[0mbackward\u001b[0m\u001b[0;34m(\u001b[0m\u001b[0;34m)\u001b[0m\u001b[0;34m\u001b[0m\u001b[0;34m\u001b[0m\u001b[0m\n\u001b[0m\u001b[1;32m      8\u001b[0m         \u001b[0moptimizer\u001b[0m\u001b[0;34m.\u001b[0m\u001b[0mstep\u001b[0m\u001b[0;34m(\u001b[0m\u001b[0;34m)\u001b[0m\u001b[0;34m\u001b[0m\u001b[0;34m\u001b[0m\u001b[0m\n\u001b[1;32m      9\u001b[0m         \u001b[0mL\u001b[0m\u001b[0;34m.\u001b[0m\u001b[0mappend\u001b[0m\u001b[0;34m(\u001b[0m\u001b[0mtorch\u001b[0m\u001b[0;34m.\u001b[0m\u001b[0msum\u001b[0m\u001b[0;34m(\u001b[0m\u001b[0mLoss\u001b[0m\u001b[0;34m)\u001b[0m\u001b[0;34m.\u001b[0m\u001b[0mitem\u001b[0m\u001b[0;34m(\u001b[0m\u001b[0;34m)\u001b[0m\u001b[0;34m)\u001b[0m\u001b[0;34m\u001b[0m\u001b[0;34m\u001b[0m\u001b[0m\n",
            "\u001b[0;32m/usr/local/lib/python3.7/dist-packages/torch/tensor.py\u001b[0m in \u001b[0;36mbackward\u001b[0;34m(self, gradient, retain_graph, create_graph, inputs)\u001b[0m\n\u001b[1;32m    243\u001b[0m                 \u001b[0mcreate_graph\u001b[0m\u001b[0;34m=\u001b[0m\u001b[0mcreate_graph\u001b[0m\u001b[0;34m,\u001b[0m\u001b[0;34m\u001b[0m\u001b[0;34m\u001b[0m\u001b[0m\n\u001b[1;32m    244\u001b[0m                 inputs=inputs)\n\u001b[0;32m--> 245\u001b[0;31m         \u001b[0mtorch\u001b[0m\u001b[0;34m.\u001b[0m\u001b[0mautograd\u001b[0m\u001b[0;34m.\u001b[0m\u001b[0mbackward\u001b[0m\u001b[0;34m(\u001b[0m\u001b[0mself\u001b[0m\u001b[0;34m,\u001b[0m \u001b[0mgradient\u001b[0m\u001b[0;34m,\u001b[0m \u001b[0mretain_graph\u001b[0m\u001b[0;34m,\u001b[0m \u001b[0mcreate_graph\u001b[0m\u001b[0;34m,\u001b[0m \u001b[0minputs\u001b[0m\u001b[0;34m=\u001b[0m\u001b[0minputs\u001b[0m\u001b[0;34m)\u001b[0m\u001b[0;34m\u001b[0m\u001b[0;34m\u001b[0m\u001b[0m\n\u001b[0m\u001b[1;32m    246\u001b[0m \u001b[0;34m\u001b[0m\u001b[0m\n\u001b[1;32m    247\u001b[0m     \u001b[0;32mdef\u001b[0m \u001b[0mregister_hook\u001b[0m\u001b[0;34m(\u001b[0m\u001b[0mself\u001b[0m\u001b[0;34m,\u001b[0m \u001b[0mhook\u001b[0m\u001b[0;34m)\u001b[0m\u001b[0;34m:\u001b[0m\u001b[0;34m\u001b[0m\u001b[0;34m\u001b[0m\u001b[0m\n",
            "\u001b[0;32m/usr/local/lib/python3.7/dist-packages/torch/autograd/__init__.py\u001b[0m in \u001b[0;36mbackward\u001b[0;34m(tensors, grad_tensors, retain_graph, create_graph, grad_variables, inputs)\u001b[0m\n\u001b[1;32m    145\u001b[0m     Variable._execution_engine.run_backward(\n\u001b[1;32m    146\u001b[0m         \u001b[0mtensors\u001b[0m\u001b[0;34m,\u001b[0m \u001b[0mgrad_tensors_\u001b[0m\u001b[0;34m,\u001b[0m \u001b[0mretain_graph\u001b[0m\u001b[0;34m,\u001b[0m \u001b[0mcreate_graph\u001b[0m\u001b[0;34m,\u001b[0m \u001b[0minputs\u001b[0m\u001b[0;34m,\u001b[0m\u001b[0;34m\u001b[0m\u001b[0;34m\u001b[0m\u001b[0m\n\u001b[0;32m--> 147\u001b[0;31m         allow_unreachable=True, accumulate_grad=True)  # allow_unreachable flag\n\u001b[0m\u001b[1;32m    148\u001b[0m \u001b[0;34m\u001b[0m\u001b[0m\n\u001b[1;32m    149\u001b[0m \u001b[0;34m\u001b[0m\u001b[0m\n",
            "\u001b[0;31mKeyboardInterrupt\u001b[0m: "
          ]
        }
      ]
    },
    {
      "cell_type": "code",
      "metadata": {
        "colab": {
          "base_uri": "https://localhost:8080/"
        },
        "id": "ede39f35",
        "outputId": "9aa60db4-8aee-4645-e101-bfc6718692eb"
      },
      "source": [
        "print(torch.sum(loss(model(X_test),Y_test)))"
      ],
      "id": "ede39f35",
      "execution_count": 23,
      "outputs": [
        {
          "output_type": "stream",
          "text": [
            "tensor(0.6845, device='cuda:0', grad_fn=<SumBackward0>)\n"
          ],
          "name": "stdout"
        }
      ]
    },
    {
      "cell_type": "code",
      "metadata": {
        "colab": {
          "base_uri": "https://localhost:8080/"
        },
        "id": "da4dd452",
        "outputId": "190f2678-8b2d-4fc0-e2f9-af08719fedf6"
      },
      "source": [
        "print(len(L2))\n",
        "len(L)"
      ],
      "id": "da4dd452",
      "execution_count": 53,
      "outputs": [
        {
          "output_type": "stream",
          "text": [
            "919\n"
          ],
          "name": "stdout"
        },
        {
          "output_type": "execute_result",
          "data": {
            "text/plain": [
              "1752803"
            ]
          },
          "metadata": {
            "tags": []
          },
          "execution_count": 53
        }
      ]
    },
    {
      "cell_type": "code",
      "metadata": {
        "colab": {
          "base_uri": "https://localhost:8080/",
          "height": 300
        },
        "id": "b22732eb",
        "outputId": "d9251929-0940-4005-e02b-440e9c3bc8ab"
      },
      "source": [
        "import matplotlib.pyplot as plt\n",
        "k = 1227699//642\n",
        "L3 = [L[i*k] for i in range(642)]\n",
        "print(len(L3))\n",
        "L3 = np.array(L3)\n",
        "L2 = np.array(L2[0:642])\n",
        "print(L2.shape, L3.shape)\n",
        "L2 = (L2 - L2.min()) / L2.max()\n",
        "L3 = (L3 - L3.min()) / L3.max() \n",
        "idx = [i for i in range(642)]\n",
        "plt.plot(idx, L2, idx, L3)\n",
        "plt.show()"
      ],
      "id": "b22732eb",
      "execution_count": 54,
      "outputs": [
        {
          "output_type": "stream",
          "text": [
            "642\n",
            "(642,) (642,)\n"
          ],
          "name": "stdout"
        },
        {
          "output_type": "display_data",
          "data": {
            "image/png": "[encoded data removed]",
            "text/plain": [
              "<Figure size 432x288 with 1 Axes>"
            ]
          },
          "metadata": {
            "tags": [],
            "needs_background": "light"
          }
        }
      ]
    },
    {
      "cell_type": "code",
      "metadata": {
        "id": "6d856880"
      },
      "source": [
        "torch.save(model,\"/content/model.pt\")"
      ],
      "id": "6d856880",
      "execution_count": 32,
      "outputs": []
    },
    {
      "cell_type": "code",
      "metadata": {
        "id": "094c4e8a"
      },
      "source": [
        "model = torch.load('/content/model.pt', map_location='cuda:0')"
      ],
      "id": "094c4e8a",
      "execution_count": 59,
      "outputs": []
    },
    {
      "cell_type": "code",
      "metadata": {
        "colab": {
          "base_uri": "https://localhost:8080/"
        },
        "id": "4352f13a",
        "outputId": "caba1ec4-7bc1-4c36-e7b4-dfaa3ec81739"
      },
      "source": [
        "print(torch.sum(loss(model(X_test),Y_test)))"
      ],
      "id": "4352f13a",
      "execution_count": 60,
      "outputs": [
        {
          "output_type": "stream",
          "text": [
            "tensor(0.6841, device='cuda:0', grad_fn=<SumBackward0>)\n"
          ],
          "name": "stdout"
        }
      ]
    },
    {
      "cell_type": "code",
      "metadata": {
        "colab": {
          "base_uri": "https://localhost:8080/"
        },
        "id": "fbd659e3",
        "outputId": "94beb93f-7082-4908-861a-a40282429f6d"
      },
      "source": [
        "M = torch.tensor(M).cuda()\n",
        "V = torch.tensor(V).cuda()\n",
        "print(M,V)"
      ],
      "id": "fbd659e3",
      "execution_count": 64,
      "outputs": [
        {
          "output_type": "stream",
          "text": [
            "tensor([6.7257e+03, 6.9422e+03, 6.4798e+03, 6.7386e+03, 3.7632e+03, 4.0321e+07],\n",
            "       device='cuda:0', dtype=torch.float64) tensor([1.2335e+08, 1.3180e+08, 1.1347e+08, 1.2365e+08, 1.9220e+07, 8.0042e+15],\n",
            "       device='cuda:0', dtype=torch.float64)\n"
          ],
          "name": "stdout"
        },
        {
          "output_type": "stream",
          "text": [
            "/usr/local/lib/python3.7/dist-packages/ipykernel_launcher.py:1: UserWarning: To copy construct from a tensor, it is recommended to use sourceTensor.clone().detach() or sourceTensor.clone().detach().requires_grad_(True), rather than torch.tensor(sourceTensor).\n",
            "  \"\"\"Entry point for launching an IPython kernel.\n",
            "/usr/local/lib/python3.7/dist-packages/ipykernel_launcher.py:2: UserWarning: To copy construct from a tensor, it is recommended to use sourceTensor.clone().detach() or sourceTensor.clone().detach().requires_grad_(True), rather than torch.tensor(sourceTensor).\n",
            "  \n"
          ],
          "name": "stderr"
        }
      ]
    },
    {
      "cell_type": "code",
      "metadata": {
        "id": "CXW5famP0OOU"
      },
      "source": [
        "pred = []\n",
        "for i in range(X_test.shape[0]):\n",
        "  pred.append(model(X_test[i:i+1]))\n",
        "pred = torch.vstack(pred).cuda()\n"
      ],
      "id": "CXW5famP0OOU",
      "execution_count": 91,
      "outputs": []
    },
    {
      "cell_type": "code",
      "metadata": {
        "colab": {
          "base_uri": "https://localhost:8080/"
        },
        "id": "aYdcjtvc1oiH",
        "outputId": "db2a7092-ab33-4369-c49a-d7d471faf9dc"
      },
      "source": [
        "len(pred)\n",
        "pred[0].shape\n",
        "type(Y_test)\n",
        "type(pred)\n",
        "idx = [i for i in range(pred.shape[0])]\n",
        "pred = pred.cpu().detach()\n",
        "M = M[0:5]\n",
        "V = V[0:5]\n",
        "print(M.shape, V.shape)\n",
        "print(pred.shape)\n",
        "print(Y_test.shape)\n",
        "pred = encoder(M,V,pred)\n",
        "Y_lol = encoder(M,V,Y_test)\n",
        "Y_lol = Y_lol.cpu().detach()"
      ],
      "id": "aYdcjtvc1oiH",
      "execution_count": 92,
      "outputs": [
        {
          "output_type": "stream",
          "text": [
            "torch.Size([5]) torch.Size([5])\n",
            "torch.Size([804, 30, 5])\n",
            "torch.Size([804, 30, 5])\n"
          ],
          "name": "stdout"
        }
      ]
    },
    {
      "cell_type": "code",
      "metadata": {
        "id": "vXK6RmzK3s5W"
      },
      "source": [
        "def encoder(M,V,x):\n",
        "  return x*V**0.5 + M"
      ],
      "id": "vXK6RmzK3s5W",
      "execution_count": 88,
      "outputs": []
    },
    {
      "cell_type": "code",
      "metadata": {
        "id": "mxtZss5Z4t4F"
      },
      "source": [
        "M = M.cpu().detach()\n",
        "V = V.cpu().detach()"
      ],
      "id": "mxtZss5Z4t4F",
      "execution_count": 84,
      "outputs": []
    },
    {
      "cell_type": "code",
      "metadata": {
        "colab": {
          "base_uri": "https://localhost:8080/",
          "height": 413
        },
        "id": "cKCt9qby5dCq",
        "outputId": "9175a0a5-8c0b-4d18-a016-59375301a39c"
      },
      "source": [
        "plt.figure(figsize=(8, 6), dpi=80)\n",
        "plt.plot(idx, Y_lol[:,-1,0], idx, pred[:,-1,0])\n",
        "plt.show()"
      ],
      "id": "cKCt9qby5dCq",
      "execution_count": 93,
      "outputs": [
        {
          "output_type": "display_data",
          "data": {
            "image/png": "[encoded data removed]",
            "text/plain": [
              "<Figure size 640x480 with 1 Axes>"
            ]
          },
          "metadata": {
            "tags": [],
            "needs_background": "light"
          }
        }
      ]
    }
  ]
}